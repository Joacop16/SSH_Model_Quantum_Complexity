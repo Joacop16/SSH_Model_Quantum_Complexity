{
 "cells": [
  {
   "cell_type": "code",
   "execution_count": null,
   "id": "e0c372d6-e54f-478d-bca6-9fe7e57469a7",
   "metadata": {},
   "outputs": [],
   "source": [
    "import numpy as np\n",
    "import matplotlib.pyplot as plt\n",
    "import pandas as pd\n",
    "from scipy import linalg"
   ]
  },
  {
   "cell_type": "markdown",
   "id": "ed116fb9-1fdd-445f-8785-b8ce581ca361",
   "metadata": {},
   "source": [
    "**Matrices Python (Repaso):**"
   ]
  },
  {
   "cell_type": "code",
   "execution_count": null,
   "id": "deb1cf22-c4f2-4cd6-b880-d7a4949cdf0f",
   "metadata": {},
   "outputs": [],
   "source": [
    "prueba = np.asmatrix(np.array([[8, 14, -6], [12,7,4], [-11,3,21]]))"
   ]
  },
  {
   "cell_type": "code",
   "execution_count": null,
   "id": "c151dbcb-ef76-438c-b7f4-f08557a66d3d",
   "metadata": {},
   "outputs": [],
   "source": [
    "pd.DataFrame(prueba)"
   ]
  },
  {
   "cell_type": "code",
   "execution_count": null,
   "id": "aeea5b42-0709-4d9f-a73b-4acca9a0aa91",
   "metadata": {},
   "outputs": [],
   "source": [
    "prueba[:,1] #Columna\n",
    "prueba[1,:] #Fila"
   ]
  },
  {
   "cell_type": "code",
   "execution_count": null,
   "id": "2db45f0c-0840-4185-a36a-883bd8236aa5",
   "metadata": {},
   "outputs": [],
   "source": [
    "eig_vals, eig_vecs = np.linalg.eig(prueba)"
   ]
  },
  {
   "cell_type": "code",
   "execution_count": null,
   "id": "ebb59a67-5f40-4715-9448-0348b2e8a3c7",
   "metadata": {},
   "outputs": [],
   "source": [
    "eig_vals[1]*eig_vecs[:,1], prueba@eig_vecs[:,1]"
   ]
  },
  {
   "cell_type": "markdown",
   "id": "086a752b-6a07-490c-8095-ec0a57ebb788",
   "metadata": {},
   "source": [
    "**Funciones SSH:**"
   ]
  },
  {
   "cell_type": "code",
   "execution_count": null,
   "id": "1948672f-0404-4e17-b8e1-7ae96794c01d",
   "metadata": {},
   "outputs": [],
   "source": [
    "def H_t1_t2(N, delta, PBC = False):\n",
    "    Matriz = np.zeros((N,N))\n",
    "\n",
    "    a = 0 #diagonal\n",
    "    b = 1 + delta #la que aparece despues - en este caso sería -t2\n",
    "    c = 1 - delta #la que aparece primero - en este caso sería t1\n",
    "\n",
    "    for i in range(N):\n",
    "        Matriz[i,i] = a\n",
    "    for i in range(N-1):\n",
    "        if (i%2 == 0):\n",
    "            Matriz[i+1,i] = c\n",
    "            Matriz[i,i+1] = c\n",
    "        else:\n",
    "            Matriz[i+1,i] = b\n",
    "            Matriz[i,i+1] = b\n",
    "            \n",
    "    if PBC:\n",
    "        Matriz[0,N-1] = b #PBC\n",
    "        Matriz[N-1,0] = b #PBC\n",
    "            \n",
    "    return Matriz  \n",
    "\n",
    "def Diagonalizar(Matriz):\n",
    "    \n",
    "    eig_vals, eig_vecs = np.linalg.eig(Matriz)\n",
    "    eig_vals_sorted = np.sort(eig_vals)\n",
    "    eig_vecs_sorted = eig_vecs[:, eig_vals.argsort()]\n",
    "    \n",
    "    N = Matriz.shape[0]\n",
    "    D = np.identity(N)*eig_vals_sorted\n",
    "    Q = np.asmatrix(eig_vecs_sorted)\n",
    "\n",
    "    return D, Q, np.asmatrix(Matriz)\n",
    "\n",
    "def Estado_Base(D,U):\n",
    "    i = 0\n",
    "    while D[i,i] <= 0:\n",
    "        i = i +1\n",
    "    indice = i #Ese es la energía del estado base:    \n",
    "    Vec_Est_Base = U[:,indice]\n",
    "    lambda_base = D[indice,indice]\n",
    "    \n",
    "    return Vec_Est_Base/np.linalg.norm(Vec_Est_Base), lambda_base #Retornemoslo normalizado"
   ]
  },
  {
   "cell_type": "markdown",
   "id": "9065e409-43da-4a85-b868-f2558669365c",
   "metadata": {},
   "source": [
    "**Funciones Algoritmo de Lanczos:**"
   ]
  },
  {
   "cell_type": "code",
   "execution_count": null,
   "id": "e6638283-972e-4735-b682-741c036a3fc7",
   "metadata": {},
   "outputs": [],
   "source": [
    "def revisar_ortogonalidad(Lanczos_Matrix):\n",
    "    N = Lanczos_Matrix.shape[1]\n",
    "    \n",
    "    for i in range(N):\n",
    "        for j in range(N):\n",
    "            Mensaje = \"< u_\" + str(i) + \"| u_\" + str(j) + \"> = \"\n",
    "            valor = float(np.transpose(Lanczos_Matrix[:,i])@ Lanczos_Matrix[:,j])\n",
    "            Mensaje = Mensaje + str(valor)\n",
    "            print(Mensaje)\n",
    "            \n",
    "def revisar_tridiagonal(Lanczos_Matrix, a_coef, b_coef, H):\n",
    "    N = Lanczos_Matrix.shape[1]\n",
    "    \n",
    "    for n in range(1,N - 1):\n",
    "        Mensaje = \"|| H|u_\" + str(n) + \"> - (a_\" + str(n) + \"|u_\" + str(n) +\"> + b_\" +str(n+1) + \"|u_\" + str(n+1) + \" + b_\" +str(n) + \"|u_\" + str(n-1) + \">) || = \"\n",
    "        Mensaje = Mensaje + str(float(np.linalg.norm(H@Lanczos_Matrix[:,n] - ( a_coef[n]*Lanczos_Matrix[:,n] + b_coef[n+1]*Lanczos_Matrix[:,n+1] + b_coef[n]*Lanczos_Matrix[:,n-1]))))\n",
    "        print(Mensaje)\n",
    "            \n",
    "def Refinar_base(Lanczos_Matrix, a_coef, b_coef, H):\n",
    "    N = Lanczos_Matrix.shape[1]\n",
    "    indice_error_tridiagonal = N\n",
    "\n",
    "    for n in range(1,N - 1):\n",
    "        tridiagonalidad_propiedad_n = float(np.linalg.norm(H@Lanczos_Matrix[:,n] - ( a_coef[n]*Lanczos_Matrix[:,n] + b_coef[n+1]*Lanczos_Matrix[:,n+1] + b_coef[n]*Lanczos_Matrix[:,n-1])))\n",
    "        if not (np.isclose(tridiagonalidad_propiedad_n, 0)): \n",
    "            indice_error_tridiagonal = n\n",
    "            break\n",
    "\n",
    "    indice_error_ortogonalidad = N\n",
    "    for i in range(N):\n",
    "        indices_error_ortogonalidad = []\n",
    "        for j in range(i):\n",
    "            ortogonalidad_ij = float(np.transpose( Lanczos_Matrix[:,i])@ Lanczos_Matrix[:,j])\n",
    "            if not (np.isclose(ortogonalidad_ij, 0)):\n",
    "                indices_error_ortogonalidad.append(i)\n",
    "        if (len(indices_error_ortogonalidad) == 0): continue\n",
    "        if (np.min(indices_error_ortogonalidad) <= indice_error_ortogonalidad): indice_error_ortogonalidad = np.min(indices_error_ortogonalidad)\n",
    "\n",
    "    limite = min(indice_error_ortogonalidad, indice_error_tridiagonal)     \n",
    "    \n",
    "    return Lanczos_Matrix[:,:limite], a_coef[:limite], b_coef[:limite+1]"
   ]
  },
  {
   "cell_type": "markdown",
   "id": "cf28fba5-f37b-48d8-a9e9-6e75f67fae61",
   "metadata": {},
   "source": [
    "**Funciones Spread Complexity:**"
   ]
  },
  {
   "cell_type": "code",
   "execution_count": null,
   "id": "bcf038b1-4912-4918-9f19-a37acfd131d8",
   "metadata": {},
   "outputs": [],
   "source": [
    "def spread_complexity_using_lanczos_basis(tiempos, Lanczos_Basis, H):\n",
    "    complejidad = np.array([])\n",
    "    u_0 = Lanczos_Basis[:,0]\n",
    "\n",
    "    for i in range(len(tiempos)):\n",
    "        t = tiempos[i]\n",
    "        u_t = np.dot(linalg.expm((-1j)*H*t), u_0)\n",
    "        \n",
    "        if(Lanczos_Basis.shape[0] == Lanczos_Basis.shape[1]): coefs_phi_t = np.linalg.inv(Lanczos_Basis)@u_t\n",
    "        else: coefs_phi_t = np.linalg.pinv(Lanczos_Basis)@u_t\n",
    "        \n",
    "        c_t = 0\n",
    "        for n in range(len(coefs_phi_t)):\n",
    "            c_t = c_t + n*np.abs(coefs_phi_t[n])**2\n",
    "        complejidad = np.append(complejidad, c_t)\n",
    "        \n",
    "    return complejidad"
   ]
  }
 ],
 "metadata": {
  "kernelspec": {
   "display_name": "Python 3 (ipykernel)",
   "language": "python",
   "name": "python3"
  },
  "language_info": {
   "codemirror_mode": {
    "name": "ipython",
    "version": 3
   },
   "file_extension": ".py",
   "mimetype": "text/x-python",
   "name": "python",
   "nbconvert_exporter": "python",
   "pygments_lexer": "ipython3",
   "version": "3.10.6"
  }
 },
 "nbformat": 4,
 "nbformat_minor": 5
}
